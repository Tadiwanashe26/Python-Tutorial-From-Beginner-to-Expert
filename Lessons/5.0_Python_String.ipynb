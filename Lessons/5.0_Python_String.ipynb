{
 "cells": [
  {
   "cell_type": "markdown",
   "metadata": {},
   "source": [
    "# 💻 Topic: Python Strings "
   ]
  },
  {
   "cell_type": "markdown",
   "metadata": {},
   "source": [
    "# 📝 Introduction\n",
    "We have previously introduced string when we spoke about the python data types. In this lesson we would go deeper into string and how to use them effectively. "
   ]
  },
  {
   "cell_type": "markdown",
   "metadata": {},
   "source": [
    "# 🔄 What you should know by the end of the lesson\n",
    "\n",
    " 1. Explanation of string\n",
    " 2. How to identify and initialize string\n",
    " 3. How to work with string\n",
    " 4. Formatting of string\n",
    " 5. Various built in function to work with string"
   ]
  },
  {
   "cell_type": "markdown",
   "metadata": {},
   "source": [
    "# 🗒️ Lesson content\n",
    "\n",
    "Python string is a deep concept that involves alot of sub topics to be covered, i would try my possible best to cover everything you need to learn about it in this lesson. \n",
    "\n",
    "## Definition of Python string\n",
    "\n",
    "A string is a collection of characters, while a charcter is regarded as a symbol that may or mayot have relative meaning. Example we have the Arabish character, English Character etc. \n",
    "\n",
    "There are alot of other technical jargons in between from the encondings  (unicode) and ASCII. \n",
    "\n",
    "Lets continue with how strings are initialized or created. \n",
    "\n",
    "\n",
    "## Initialization of String in Python\n",
    "\n",
    "It is very simple to know if a varaibale is a string in python. All variables that appear within a quote either single quote `''` or double quote `\"\"` are assumed to be a string. \n",
    "\n",
    "A string cane declared by simply writing out the variable name and supplying the value of the variable. Lets see some example: "
   ]
  },
  {
   "cell_type": "code",
   "execution_count": null,
   "metadata": {},
   "outputs": [],
   "source": [
    "# All the declraton below are string. \n",
    "\n",
    "name = \"John\"\n",
    "age = \"35\"\n",
    "address = \"123 Main Street\"\n",
    "\n",
    "school='MIT'\n",
    "course='Physics'\n",
    "level='100'"
   ]
  },
  {
   "cell_type": "markdown",
   "metadata": {},
   "source": [
    "Can you observe anything from the six examples given above? \n",
    "\n",
    "You should observe the following: \n",
    "\n",
    "1. The second example is a number `35` but it was still represented as a string. This means that both numbers and letters can be represented as a string. It all depends on the usecase. \n",
    "2. Can you observe that the last three example, have different indentation from the first three (i.e there is no space before the `=` or after it)? White space is not necessary while declaring a variable, we just add white space to make our code beautiful and readable. \n",
    "\n",
    "## Accessing a string\n",
    "Assuming i am writing a program to you were able to collect date of birth as a string. Example `10 05 1996` this translates to 10th of May 1996. You are now demanded to extract only the birth month to display since the user does not want his age displayed. \n",
    "\n",
    "Python offers us the capability to access each individual character in a string and do with it whatever we want, we can save it as another string, edit it, delete it or anything. Let's see how this can be acheived. \n",
    "\n",
    "Lets start with a basic indexing. If we have a string example `love` that has four characters, therefore when you start counting it you will get four, however most programming languages starts counting or call it indexing from `0`. This means that the first character is counted as zero, the second one 1 etc. In the case of love it can be indexed as \n",
    "\n",
    "    l => 0\n",
    "    o => 1\n",
    "    v => 2\n",
    "    e => 3\n",
    "Let's try to access the letter `v` in our string. "
   ]
  },
  {
   "cell_type": "code",
   "execution_count": 4,
   "metadata": {},
   "outputs": [
    {
     "name": "stdout",
     "output_type": "stream",
     "text": [
      "v\n"
     ]
    }
   ],
   "source": [
    "# First We declare the variable\n",
    "\n",
    "Virtue = 'love'\n",
    "\n",
    "#Based on our count previously i would try to access the charcter v and print it out. \n",
    "print(Virtue[2])\n",
    "\n"
   ]
  },
  {
   "cell_type": "markdown",
   "metadata": {},
   "source": [
    "As can be seen the output is `v`. \n",
    "\n",
    "However, they could be times when the value of the string is unknown and you might be tasked returning the first or second character. This is pretty simple. What if you are told to return the last, or the second to last, this is where the challenge comes. \n",
    "\n",
    "Python have also made it simple and easy for us to return it by using the negative index. This means we can use -1 to return the last item in a string, -2 second last and it continues. \n",
    "\n",
    "Ok let us see this in action using the previous example, i would access the last last letter the normal way and also using the negative index way. "
   ]
  },
  {
   "cell_type": "code",
   "execution_count": 5,
   "metadata": {},
   "outputs": [
    {
     "name": "stdout",
     "output_type": "stream",
     "text": [
      "e\n",
      "e\n"
     ]
    }
   ],
   "source": [
    "#The mormal way\n",
    "print(Virtue[3])\n",
    "\n",
    "#The negative index way\n",
    "print(Virtue[-1])\n"
   ]
  },
  {
   "cell_type": "markdown",
   "metadata": {},
   "source": [
    "You can see that both of them produced the needed result. \n",
    "\n",
    "NOw back to my previous example of extracting the month of birth from the day of birth `10 05 1996`. You might already be asking yourself how can this be done since we need to extract two charcters. \n",
    "\n",
    "Python also offer the possibility of using slicing while dealing with strings. Slicing simply means you can decide to extract a partcular range of charcters using their index numbers. The important thing to note is that while slicing, the first part is inclusive while the last part is exclusive. By this i mean that the first number before the slice operator would be included in the count, while the number after will not be included. ``:`` is regarde as the slice operator. For example if we have ``2:4`` this usually should indicate from the Third character to the 5th character since our index is 0, but this is wrong. It means from the third character to the fourth character. \n",
    "\n",
    "With the slicing capability, we can be able to extract our month of birth. Let's see this in action"
   ]
  },
  {
   "cell_type": "code",
   "execution_count": 7,
   "metadata": {},
   "outputs": [
    {
     "name": "stdout",
     "output_type": "stream",
     "text": [
      "05\n"
     ]
    }
   ],
   "source": [
    "#Method 1\n",
    "\n",
    "# We first initialize the date of birth\n",
    "dateOfBirth = '10-05-1996'\n",
    "\n",
    "#We would now identify the position of the month of birth. Remember to include the while spaces inside the quote while counting. \n",
    "#The birth months are in the position 3 and 4, we can go ahead and slice\n",
    "\n",
    "birthMonth = dateOfBirth[3:5]\n",
    "\n",
    "print(birthMonth)"
   ]
  },
  {
   "cell_type": "markdown",
   "metadata": {},
   "source": [
    "I believe that you understand why i used 5 instead of 4 while selecting the birthMonth, this is due to the inclusive and exclusive nature of the first and last numbers in a slice. "
   ]
  },
  {
   "cell_type": "markdown",
   "metadata": {},
   "source": [
    "# 🖍️ Quick Tip\n",
    "\n",
    "If you get a `IndexError`  while working with string, that means that the range you entered is not available in the string. \n",
    "\n",
    "If you get `TypeError` it simply means that you are trying to use maybe a float instead of an integer to access a character. "
   ]
  },
  {
   "cell_type": "markdown",
   "metadata": {},
   "source": [
    "### Change or delete Characters inside a string\n",
    "\n",
    "The same way we could acess characters and resave it in another variable, ~~we can also delete variable or change the content of it~~ FALSE. Strings are immutable meaning that we cannot delete nor edit the content of a string. When we try it, checkout the error: `TypeError: 'str' object does not support item assignment`"
   ]
  },
  {
   "cell_type": "code",
   "execution_count": 10,
   "metadata": {},
   "outputs": [
    {
     "name": "stdout",
     "output_type": "stream",
     "text": [
      "Happi\n"
     ]
    },
    {
     "ename": "TypeError",
     "evalue": "'str' object does not support item assignment",
     "output_type": "error",
     "traceback": [
      "\u001b[1;31m---------------------------------------------------------------------------\u001b[0m",
      "\u001b[1;31mTypeError\u001b[0m                                 Traceback (most recent call last)",
      "\u001b[1;32mc:\\Users\\vickj\\Documents\\Repo\\Python-Tutorial-From-Beginer-to-Expert\\Lessons\\5.0_Python_String.ipynb Cell 15'\u001b[0m in \u001b[0;36m<module>\u001b[1;34m\u001b[0m\n\u001b[0;32m      <a href='vscode-notebook-cell:/c%3A/Users/vickj/Documents/Repo/Python-Tutorial-From-Beginer-to-Expert/Lessons/5.0_Python_String.ipynb#ch0000021?line=1'>2</a>\u001b[0m mood \u001b[39m=\u001b[39m \u001b[39m\"\u001b[39m\u001b[39mHappi\u001b[39m\u001b[39m\"\u001b[39m \u001b[39m#I accidently declared it as Happy instead of Happy. Now i want to change the last character from i to y\u001b[39;00m\n\u001b[0;32m      <a href='vscode-notebook-cell:/c%3A/Users/vickj/Documents/Repo/Python-Tutorial-From-Beginer-to-Expert/Lessons/5.0_Python_String.ipynb#ch0000021?line=2'>3</a>\u001b[0m \u001b[39mprint\u001b[39m(mood) \u001b[39m#Lets print mood before the change \u001b[39;00m\n\u001b[1;32m----> <a href='vscode-notebook-cell:/c%3A/Users/vickj/Documents/Repo/Python-Tutorial-From-Beginer-to-Expert/Lessons/5.0_Python_String.ipynb#ch0000021?line=3'>4</a>\u001b[0m mood[\u001b[39m4\u001b[39m] \u001b[39m=\u001b[39m \u001b[39m\"\u001b[39m\u001b[39my\u001b[39m\u001b[39m\"\u001b[39m\n\u001b[0;32m      <a href='vscode-notebook-cell:/c%3A/Users/vickj/Documents/Repo/Python-Tutorial-From-Beginer-to-Expert/Lessons/5.0_Python_String.ipynb#ch0000021?line=4'>5</a>\u001b[0m \u001b[39mprint\u001b[39m(mood)\n",
      "\u001b[1;31mTypeError\u001b[0m: 'str' object does not support item assignment"
     ]
    }
   ],
   "source": [
    "#Let's initialize a variable to change the content\n",
    "mood = \"Happi\" #I accidently declared it as Happy instead of Happy. Now i want to change the last character from i to y\n",
    "print(mood) #Lets print mood before the change \n",
    "mood[4] = \"y\"\n",
    "print(mood) #Mood after the changes"
   ]
  },
  {
   "cell_type": "markdown",
   "metadata": {},
   "source": [
    "## String Operations\n",
    "\n",
    "Just like numbers, some operations can be carried out on strings. I think this is one of the cool features of python. Operations such as addition, substraction etc. The table below explains all the basic operations that can be done with strings"
   ]
  },
  {
   "cell_type": "markdown",
   "metadata": {},
   "source": [
    "|Operator|Description  |<div style=\"width:350px\">Sample</div> |\n",
    "|--|--|---|\n",
    "|<center>+</center>|This is used for **Concatenation**. This simply means adding two or more strings together|``a = \"school \"`` <br  /> ``b = \"Register\" ``<br  /> ``print(a + b)`` gives us  ``school Register``|\n",
    "|<center>*</center>|This is used for **Repetition/Duplication**. This simply means repeating the same string over and over again|``a = \"Amen \"`` <br  /> ``b = a * 3`` <br  /> ``print(b)`` gives us ``Amen Amen Amen``|\n",
    "|<center>`in`</center>|This is used for **checking if a character is present** in a string.|``a = \"Amen\"`` <br  /> ``'A' in a`` this will return `True`|\n",
    "|<center>`not in`</center>|This is used for **checking if a character is present or not** in a string.|``a = \"Amen\"`` <br  /> ``'A' not in a`` this will return `False` <br  /> This is because the character `a` is present in the string|\n",
    "\n",
    "There are several other operators, but for the sake of simplicity and avoidance of information overload, we would stip here. Feel free to read more [here](https://docs.python.org/3/library/string.html). \n",
    "\n",
    "## String Format Operator\n",
    "These are simply operators that enable to format string in a particlar way. It can be replacing bstring or helping make our codes neater. They are denoted by `%`. \n",
    "\n",
    "Let's assume you are greeting a set of people individually, this means that your code should be dynamic. String format operator can help yo acheive that. I will explain in the example below. \n",
    " "
   ]
  },
  {
   "cell_type": "code",
   "execution_count": 20,
   "metadata": {},
   "outputs": [
    {
     "name": "stdout",
     "output_type": "stream",
     "text": [
      "My name is Victor\n"
     ]
    }
   ],
   "source": [
    "#Declare the name\n",
    "name = \"Victor\"\n",
    "\n",
    "#Using string formater %\n",
    "print(\"My name is %s\" %(name))\n"
   ]
  },
  {
   "cell_type": "markdown",
   "metadata": {},
   "source": [
    "As you can see `%s` was used to replace a string, while the value was indicated at the end. Lets call this ``%s`` a ``placeholder``. \n",
    "\n",
    "they are several other placeholders in Python. This table below from tutorialpoint.com displays them and their uses. \n",
    "\n",
    "[![Python Placeholders](../Assets/Placeholders.JPG \"Placeholders\")]"
   ]
  },
  {
   "cell_type": "markdown",
   "metadata": {},
   "source": [
    "# 🖍️ Quick Tip\n",
    "\n",
    "If you forget to replace a placeholder, this will result in an error. Always declare it at the end of your sentence. "
   ]
  },
  {
   "cell_type": "markdown",
   "metadata": {},
   "source": [
    "## Escape Sequence \n",
    "Remember i told you that we identify string by using quotes? what if i have a situation where i need to use a quote inside a quote. Let`s say i want to ask `'What's your name?'` How am i going to handle this? \n",
    "\n",
    "Let us print the above statement to know how python will handle this."
   ]
  },
  {
   "cell_type": "markdown",
   "metadata": {},
   "source": [
    "## Python `format{}` method\n",
    "I told you that python formats makes use of placeholders, however we have a more professional and modern way of handling things in python. This is by making use of the format method. This is simply using `{}` as a placeholder in place of either number, string or anything. You can now replace it at the end of the print sentence. This is widely used while printing. Let's see it in action. "
   ]
  },
  {
   "cell_type": "code",
   "execution_count": 23,
   "metadata": {},
   "outputs": [
    {
     "name": "stdout",
     "output_type": "stream",
     "text": [
      "The names of friends are Emeka, Euphe, and Theo\n",
      "The names of friends are Emeka, Theo, and Euphe\n",
      "The names of friends are Euphe, Theo, and Emeka\n"
     ]
    }
   ],
   "source": [
    "#Using Python format\n",
    "\n",
    "#Method 1 using the {} alone\n",
    "print(\"The names of friends are {}, {}, and {}\".format('Emeka', 'Euphe', 'Theo'))\n",
    "\n",
    "#Method 2 Uisng the {} with position \n",
    "print(\"The names of friends are {0}, {2}, and {1}\".format('Emeka', 'Euphe', 'Theo'))\n",
    "#You can see that even though Euphe was second while listing, it was last when printed out\n",
    "\n",
    "#Method 3 using keywords\n",
    "print(\"The names of friends are {a}, {y}, and {x}\".format(x = 'Emeka', a = 'Euphe', y ='Theo'))\n"
   ]
  },
  {
   "cell_type": "code",
   "execution_count": 15,
   "metadata": {},
   "outputs": [
    {
     "ename": "SyntaxError",
     "evalue": "invalid syntax (3768337714.py, line 1)",
     "output_type": "error",
     "traceback": [
      "\u001b[1;36m  Input \u001b[1;32mIn [15]\u001b[1;36m\u001b[0m\n\u001b[1;33m    print('What's this')\u001b[0m\n\u001b[1;37m                ^\u001b[0m\n\u001b[1;31mSyntaxError\u001b[0m\u001b[1;31m:\u001b[0m invalid syntax\n"
     ]
    }
   ],
   "source": [
    "print('What's this')"
   ]
  },
  {
   "cell_type": "markdown",
   "metadata": {},
   "source": [
    "Before we even print the syntax you can see that it is already wrong. When we ran the code, it can be observed that python threw an ``invaid syntax arror`` this is caused by the quote inside the quote. They are several ways to handle this which we will see below, but the simplest way is by using the escape character. This simply tells python that this quote is not used for quote, but part of the character. "
   ]
  },
  {
   "cell_type": "code",
   "execution_count": 19,
   "metadata": {},
   "outputs": [
    {
     "name": "stdout",
     "output_type": "stream",
     "text": [
      "What's this?\n",
      "What's this?\n",
      "what's this?\n"
     ]
    }
   ],
   "source": [
    "#Method1: Using Tripple Quotes\n",
    "print('''What's this?''')\n",
    "\n",
    "#Method2 usig double quotes for the string instead of single quotes\n",
    "print(\"What's this?\")\n",
    "\n",
    "#Method3 using escape character\n",
    "print('what\\'s this?')"
   ]
  },
  {
   "cell_type": "markdown",
   "metadata": {},
   "source": [
    "As can be seen in the above example, the easiest means is by using the escape character. \n",
    "\n",
    "This is not the only use of escape sequence, it can also be used to add characters or texts. Infact they are more than 1o escape sequence in python. The table below shows the various escqpe sequence and their meaning. \n",
    "\n",
    "[![Escape Sequence](../Assets/Python.JPG \"Escape Sequence\")]"
   ]
  },
  {
   "cell_type": "markdown",
   "metadata": {},
   "source": [
    "## Multiline String\n",
    "\n",
    "All along, we have been using single line strings. However they can also be scenerios where you might need to make use of multi line string. This can also be while expresing opniion or writing documentation. Dont worry we have you covered, all you need to do is to start the string with a tripple quote and end it with a tripple quote."
   ]
  },
  {
   "cell_type": "code",
   "execution_count": 9,
   "metadata": {},
   "outputs": [
    {
     "name": "stdout",
     "output_type": "stream",
     "text": [
      "Lorem Ipsum is simply dummy text of the printing and typesetting industry. Lorem Ipsum has been the industry's standard dummy text ever since the 1500s, when an unknown printer took a galley of type and scrambled it to make a type specimen book. It has survived not only five centuries, but also the leap into electronic typesetting, remaining essentially unchanged. It was popularised in the 1960s with the release of Letraset sheets containing Lorem Ipsum passages, and more recently with desktop publishing software like Aldus PageMaker including versions of Lorem Ipsum.\n"
     ]
    }
   ],
   "source": [
    "a = \"\"\"Lorem Ipsum is simply dummy text of the \n",
    "printing and typesetting industry. \n",
    "Lorem Ipsum has been the industry's \n",
    "standard dummy text ever since the 1500s, \n",
    "when an unknown printer took a galley of type \n",
    "and scrambled it to make a type specimen book. \n",
    "It has survived not only five centuries, but \n",
    "also the leap into electronic typesetting, \n",
    "remaining essentially unchanged. \n",
    "It was popularised in the 1960s \n",
    "with the release of Letraset sheets \n",
    "containing Lorem Ipsum passages, and \n",
    "more recently with desktop publishing \n",
    "software like Aldus PageMaker including \n",
    "versions of Lorem Ipsum.\"\"\"\n",
    "print(a)"
   ]
  },
  {
   "cell_type": "markdown",
   "metadata": {},
   "source": [
    "## Python Built in Methods\n",
    "Python comes with lots of built in types that help us work well with them.\n",
    "The table below renders a comprehensive list of them and its usage. For completeness, the table was sourced from docs.python.org, the official  documentation of python. I would list out the most common and frequnetly used. For the complete table please visit https://docs.python.org/3/library/stdtypes.html#string-methods. "
   ]
  },
  {
   "cell_type": "markdown",
   "metadata": {},
   "source": [
    "| Method |Definition  | Usage |\n",
    "|--|--|--|\n",
    "|`.capitalize()`| This is returns the string with the first letter capitalized |`myString =  \"difficulty\"`  <br /> `print(myString.capitalize())` <br /> result: `Difficulty`|\n",
    "|`.casefold()`| This is returns a casefolded string. Casefold is an aggressive lowercasing. [Read more about casefold](https://docs.python.org/3/library/stdtypes.html#:~:text=str.casefold%28%29,it%20to%20%22ss%22.) |`myString = \"Große\" `  <br /> `print(myString.casefold())` <br /> result: `grosse`|\n",
    "|`.isalnum()`| This is returns the True if the string is an Alpha Numeric |`myString =  \"difficulty123\"`  <br /> `print(myString.isalnum())` <br /> result: `True`|\n",
    "|`.isalpha()`| This is returns the True if the string is an Alpha Numeric |`myString =  \"difficulty\"`  <br /> `print(myString.isalpha())` <br /> result: `True`|\n",
    "|`.isascii()`| This is returns the True if the string is empty or an ASCII. Read more about ASCII at https://www.ascii-code.com/ |`myString =  \"difficulty\"`  <br /> `print(myString.isacii())` <br /> result: `True`|\n",
    "|`.isdigit()`| This is returns the True if the string is a digit |`myString =  \"difficulty\"`  <br /> `print(myString.isdigit())` <br /> result: `False`|\n",
    "|`.islower()`| This is returns the True if the string is lower cased |`myString =  \"difficulty\"`  <br /> `print(myString.islower())` <br /> result: `True`|\n",
    "|`.isnumeric()`| This is returns the True if the string characters are all numeric characters |`myString =  \"difficulty\"`  <br /> `print(myString.isnumeric())` <br /> result: `False`|\n",
    "|`.isspace()`| This is returns the True if the string is contains at least one whitespace |`myString =  \"difficulty\"`  <br /> `print(myString.isspace())` <br /> result: `False`|\n",
    "|`.istitle()`| This is returns the True if the string is title cased |`myString =  \"difficulty\"`  <br /> `print(myString.istitle())` <br /> result: `False`|\n",
    "|`.isupper()`| This is returns the True if the string is upper cased |`myString =  \"difficulty\"`  <br /> `print(myString.isupper())` <br /> result: `False`|\n",
    "|`.join()`| Joins two or more strings together |`myStrings = (\"Occupdation\", \"Hello\", \"Cardio\")` <br /> `print(\"*\".join(myStrings))` <br /> `print(myString.capitalize())` <br /> result: `Occupdation*Hello*Cardio`|\n",
    "\n",
    "They are tens of other methods that we would use and add as we progress. \n",
    "\n"
   ]
  },
  {
   "cell_type": "markdown",
   "metadata": {},
   "source": []
  },
  {
   "cell_type": "markdown",
   "metadata": {},
   "source": [
    "# ✍🏽 Exercise\n",
    "\n",
    "Please attempt the following:\n",
    "string in pythons appears here\n"
   ]
  },
  {
   "cell_type": "markdown",
   "metadata": {},
   "source": [
    "# 👉🏿 What's next\n",
    "\n",
    "Congratulations on accomplishing this lesson. I hope you learned all about string and how to work with it. I know the lesson was \n",
    "\n",
    "Its now time to move to the next lesson, to learn about .....\n",
    "\n",
    "![Let's Go](https://media.giphy.com/media/1msyFu3fG8sz9IpRSC/giphy.gif)\n",
    "\n",
    "# [![Next Lesson](../Assets/NextLesson.png \"Next\")](./0.0_Intro1.ipynb)\n"
   ]
  },
  {
   "cell_type": "markdown",
   "metadata": {},
   "source": [
    "# 📚 Reference \n",
    "\n",
    "In the course of Writing some of these materials were used\n",
    "\n",
    "1. ss\n",
    "2. "
   ]
  },
  {
   "cell_type": "markdown",
   "metadata": {},
   "source": []
  }
 ],
 "metadata": {
  "interpreter": {
   "hash": "7af0b1be9de2b80abba3e5650cc69d03f2efda3596aac82ee0cfa1be2c1a4d8a"
  },
  "kernelspec": {
   "display_name": "Python 3.9.1 64-bit",
   "language": "python",
   "name": "python3"
  },
  "language_info": {
   "codemirror_mode": {
    "name": "ipython",
    "version": 3
   },
   "file_extension": ".py",
   "mimetype": "text/x-python",
   "name": "python",
   "nbconvert_exporter": "python",
   "pygments_lexer": "ipython3",
   "version": "3.9.1"
  },
  "orig_nbformat": 4
 },
 "nbformat": 4,
 "nbformat_minor": 2
}
