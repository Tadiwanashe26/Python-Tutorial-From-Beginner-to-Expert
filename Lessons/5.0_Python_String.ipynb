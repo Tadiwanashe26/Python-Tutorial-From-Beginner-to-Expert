{
 "cells": [
  {
   "cell_type": "markdown",
   "metadata": {},
   "source": [
    "# 💻 Topic: Python Strings "
   ]
  },
  {
   "cell_type": "markdown",
   "metadata": {},
   "source": [
    "# 📝 Introduction\n",
    "We have previously introduced string when we spoke about the python data types. In this lesson we would go deeper into string and how to use them effectively. "
   ]
  },
  {
   "cell_type": "markdown",
   "metadata": {},
   "source": [
    "# 🔄 What you should know by the end of the lesson\n",
    "\n",
    " 1. Explanation of string\n",
    " 2. How to identify and initialize string\n",
    " 3. How to work with string\n",
    " 4. Formatting of string\n",
    " 5. Various built in function to work with string"
   ]
  },
  {
   "cell_type": "markdown",
   "metadata": {},
   "source": [
    "# 🗒️ Lesson content\n",
    "\n",
    "Python string is a deep concept that involves alot of sub topics to be covered, i would try my possible best to cover everything you need to learn about it in this lesson. \n",
    "\n",
    "## Definition of Python string\n",
    "\n",
    "A string is a collection of characters, while a charcter is regarded as a symbol that may or mayot have relative meaning. Example we have the Arabish character, English Character etc. \n",
    "\n",
    "There are alot of other technical jargons in between from the encondings  (unicode) and ASCII. \n",
    "\n",
    "Lets continue with how strings are initialized or created. \n",
    "\n",
    "\n",
    "## Initialization of String in Python\n",
    "\n",
    "It is very simple to know if a varaibale is a string in python. All variables that appear within a quote either single quote `''` or double quote `\"\"` are assumed to be a string. \n",
    "\n",
    "A string cane declared by simply writing out the variable name and supplying the value of the variable. Lets see some example: "
   ]
  },
  {
   "cell_type": "code",
   "execution_count": null,
   "metadata": {},
   "outputs": [],
   "source": [
    "# All the declraton below are string. \n",
    "\n",
    "name = \"John\"\n",
    "age = \"35\"\n",
    "address = \"123 Main Street\"\n",
    "\n",
    "school='MIT'\n",
    "course='Physics'\n",
    "level='100'"
   ]
  },
  {
   "cell_type": "markdown",
   "metadata": {},
   "source": []
  },
  {
   "cell_type": "markdown",
   "metadata": {},
   "source": [
    "# ✍🏽 Exercise\n",
    "\n",
    "Please attempt the following:\n",
    "string in pythons appears here\n"
   ]
  },
  {
   "cell_type": "markdown",
   "metadata": {},
   "source": [
    "# 👉🏿 What's next\n",
    "\n",
    "Congratulations on accomplishing this lesson. I hope you learned\n",
    "\n",
    "1. Here we will give update on whats next\n",
    "\n",
    "Its now time to move to the next lesson, to learn about .....\n",
    "\n",
    "![Let's Go](https://media.giphy.com/media/l3V0lsGtTMSB5YNgc/giphy.gif)\n",
    "\n",
    "# [![Next Lesson](../Assets/NextLesson.png \"Next\")](./0.0_Intro1.ipynb)\n"
   ]
  },
  {
   "cell_type": "markdown",
   "metadata": {},
   "source": [
    "# 📚 Reference \n",
    "\n",
    "In the course of Writing some of these materials were used\n",
    "\n",
    "1. ss\n",
    "2. "
   ]
  },
  {
   "cell_type": "markdown",
   "metadata": {},
   "source": []
  }
 ],
 "metadata": {
  "interpreter": {
   "hash": "7af0b1be9de2b80abba3e5650cc69d03f2efda3596aac82ee0cfa1be2c1a4d8a"
  },
  "kernelspec": {
   "display_name": "Python 3.9.1 64-bit",
   "language": "python",
   "name": "python3"
  },
  "language_info": {
   "codemirror_mode": {
    "name": "ipython",
    "version": 3
   },
   "file_extension": ".py",
   "mimetype": "text/x-python",
   "name": "python",
   "nbconvert_exporter": "python",
   "pygments_lexer": "ipython3",
   "version": "3.9.1"
  },
  "orig_nbformat": 4
 },
 "nbformat": 4,
 "nbformat_minor": 2
}
