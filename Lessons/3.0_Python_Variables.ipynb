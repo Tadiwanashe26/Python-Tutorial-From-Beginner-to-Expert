{
 "cells": [
  {
   "cell_type": "markdown",
   "metadata": {},
   "source": [
    "# 💻 Topic: Python Variaiables"
   ]
  },
  {
   "cell_type": "markdown",
   "metadata": {},
   "source": [
    "# 📝 Introduction\n",
    "Variables are on of the core things you will always define when you are writing a Python Program. \n",
    "\n",
    "To be frank I dont know what the standard definition of a variable is, but i will try to explain it in ways you will understand. "
   ]
  },
  {
   "cell_type": "markdown",
   "metadata": {},
   "source": [
    "# 🔄 What you should know by the end of the lesson\n",
    "\n",
    " 1. Understand what a variable is\n",
    " 2. Initialize and use variables\n"
   ]
  },
  {
   "cell_type": "markdown",
   "metadata": {},
   "source": [
    "# 🗒️ Lesson content\n",
    "\n",
    "When i started planning this lesson, i had a problem on how best to structure the content. Should i explain the various variables type before teaching or to use or vice versa. Well here i am trying to explain it first.\n",
    "\n",
    "Like we ssaid in the introduction, a python variable is a named location that we use in storing values to the memory. For instance you can have a variable \n",
    "\n",
    "name = \"Vincent\"\n",
    "\n",
    "You have assigned the value `Vincent` to the variable `name`. \n",
    "\n",
    "## Initializing a Variable\n",
    "\n",
    "If you are coming from a TypeScript or another programming language background, you might be used to statically defining a variable. i.e writing the data type before declaration. In python that is not the case. You can directly delcare any varible you want. Python would only know the type by the nature of the value used in the declaration and assignment. Let's see some example below. "
   ]
  },
  {
   "cell_type": "code",
   "execution_count": null,
   "metadata": {},
   "outputs": [],
   "source": [
    "firstName = 'Vincent'       # I am a string\n",
    "surName = 'Giddo'           # Me too\n",
    "age = 32                    # But i am a number\n",
    "height = 170.5              # Please i am not just a number, i am a floating point"
   ]
  },
  {
   "cell_type": "markdown",
   "metadata": {},
   "source": [
    "Ignore the various types, by the next lesson you will understand all the data types that we have in python. \n",
    "\n",
    "### Reassignment of Varriable\n",
    "\n",
    "A variale can be reassigned multiple times in a program. The value the variable holds is the last value in which it was assigned. Let's see an example"
   ]
  },
  {
   "cell_type": "code",
   "execution_count": null,
   "metadata": {},
   "outputs": [],
   "source": [
    "a = 10\n",
    "b = 5\n",
    "c = 5\n",
    "\n",
    "a = a + b + c\n",
    "\n",
    "# Do you think we are going to have an error when we run thr code?\n",
    "\n",
    "c = a - c\n",
    "\n",
    "print(a)\n",
    "\n",
    "print(c)\n",
    "\n",
    "# Try to excecute this cell"
   ]
  },
  {
   "cell_type": "markdown",
   "metadata": {},
   "source": [
    "As you can see, variables can even be assigned to itself and be reassigned. This makes it helpful and useful. \n",
    "\n",
    "### Multiple Assignment \n",
    "\n",
    "On some occassion you might want to assign one value to a set of variables or assign multiple values to multiple variables, you can achive that with python. "
   ]
  },
  {
   "cell_type": "code",
   "execution_count": null,
   "metadata": {},
   "outputs": [],
   "source": [
    "x = 5\n",
    "y = 5\n",
    "z = 5\n",
    "\n",
    "# or\n",
    "\n",
    "a = 2\n",
    "b = 8.5\n",
    "c = 'John'"
   ]
  },
  {
   "cell_type": "markdown",
   "metadata": {},
   "source": [
    "The code above is valid, but it can be written more efficiently to save space. Lets see the efficiemnt method. "
   ]
  },
  {
   "cell_type": "code",
   "execution_count": null,
   "metadata": {},
   "outputs": [],
   "source": [
    "x =  y = c = 5      #Here we assigned all of them equals 5\n",
    "\n",
    "a, b, c = 2, 8.5, 'John'"
   ]
  },
  {
   "cell_type": "markdown",
   "metadata": {},
   "source": [
    "# ✍🏽 Exercise"
   ]
  },
  {
   "cell_type": "markdown",
   "metadata": {},
   "source": [
    "Now that we discussed the various means of working with python, i think its time we learn with it. \n"
   ]
  },
  {
   "cell_type": "code",
   "execution_count": null,
   "metadata": {},
   "outputs": [],
   "source": [
    "#Initialize and assign a variable and value of your choice.\n",
    "\n",
    "#Re initialize the same variable with another value\n",
    "\n",
    "#print out the variable\n"
   ]
  },
  {
   "cell_type": "markdown",
   "metadata": {},
   "source": [
    "Did it print?\n",
    "\n",
    "If no, please check what you have done. You can also practice this to get mnore conformtable with initialization and assignments of variables. "
   ]
  },
  {
   "cell_type": "markdown",
   "metadata": {},
   "source": [
    "# 👉🏿 What's next\n",
    "\n",
    "Congratulations on accomplishing this lesson. I hope you learned about variables and how it is been used. In the next lesson we would learn about the various datatypes we have in python.\n",
    "\n",
    "Its now time to move to the next lesson, to learn about various variables data types we have in python. \n",
    "\n",
    "Keep pushing, you would soon appreciate the full scope of python and its simplicity. \n",
    "\n",
    "![stroll](https://media.giphy.com/media/1AMbX8IDhjnnSPPfow/giphy.gif)\n",
    "\n",
    "\n",
    "# [![Next Lesson](../Assets/NextLesson.png \"Next\")](./4.0_Python_Data_Types.ipynb)\n"
   ]
  }
 ],
 "metadata": {
  "interpreter": {
   "hash": "7af0b1be9de2b80abba3e5650cc69d03f2efda3596aac82ee0cfa1be2c1a4d8a"
  },
  "kernelspec": {
   "display_name": "Python 3.9.1 64-bit",
   "language": "python",
   "name": "python3"
  },
  "language_info": {
   "codemirror_mode": {
    "name": "ipython",
    "version": 3
   },
   "file_extension": ".py",
   "mimetype": "text/x-python",
   "name": "python",
   "nbconvert_exporter": "python",
   "pygments_lexer": "ipython3",
   "version": "3.9.1"
  },
  "orig_nbformat": 4
 },
 "nbformat": 4,
 "nbformat_minor": 2
}
