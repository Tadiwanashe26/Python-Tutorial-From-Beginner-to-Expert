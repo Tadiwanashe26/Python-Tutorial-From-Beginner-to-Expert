{
 "cells": [
  {
   "cell_type": "markdown",
   "metadata": {},
   "source": [
    "# 💻 Topic: Python Variaiables"
   ]
  },
  {
   "cell_type": "markdown",
   "metadata": {},
   "source": [
    "# 📝 Introduction\n",
    "Variables are on of the core things you will always define when you are writing a Python Program. \n",
    "\n",
    "To be frank I dont know what the standard definition of a variable is, but i will try to explain it in ways you will understand. "
   ]
  },
  {
   "cell_type": "markdown",
   "metadata": {},
   "source": [
    "# 🔄 What you should know by the end of the lesson\n",
    "\n",
    " 1. Understand what a variable is\n",
    " 2. Understand the various types of variable\n",
    " 3. Iniialize and use variables\n"
   ]
  },
  {
   "cell_type": "markdown",
   "metadata": {},
   "source": [
    "# 🗒️ Lesson content\n",
    "\n",
    "Let's start with some motivations. \n",
    "\n",
    "You are possibly here because you either want to learn python or doing a python refresher. If any of those is your reason, then you need no motivation as to why to learn python, you already have all the motivation you need. \n",
    "\n",
    "However, if it helps i would want to tell you that python programming language is one of the most popular programming language in the world. \n",
    "\n",
    "## some major uses of python \n",
    "\n",
    " - Web Development \n",
    " - Software Development \n",
    " - Data Science\n",
    " - System Scripting etc. \n",
    " - \n",
    "With these you can see that python can be used for virtually everything. \n",
    "\n",
    "## Reasons why you should learn Python\n",
    "1. Python can be bused for a variety of purpose. \n",
    "2. Python is easy to learn \n",
    "3. Python syntax allows developers write code with fewer lines\n",
    "4. Python is interpreted, meaning that it can be compiled almost immediately at runtime. \n",
    "5. Python is beginner friendly. \n",
    "\n",
    "This and several other reasons are why i think you should learn and stick with python. \n",
    "\n",
    "## Basic Features of Python\n",
    "\n",
    " 1. It can serve multiple purpose such as scripting. \n",
    " 2. It is Object oriented (you will find out more soon)\n",
    " 3. It is good with data, this is why it is used within the data science space. \n",
    " 4. It has a very large community support\n",
    " 5. It can be integrated with alot of programming languge including C, C# etc. \n",
    "\n",
    "Python has lots of features but let me not bore you. I think its best we start coding things out. \n",
    "\n",
    "To prove how easy and simple python is, let us write our first python program. \n",
    "\n",
    "We are going to print \"Hello World\" to the console. \n",
    "\n",
    "    print(\"Hello, World\")\n",
    "\n",
    "Run the code below: "
   ]
  },
  {
   "cell_type": "code",
   "execution_count": 1,
   "metadata": {},
   "outputs": [
    {
     "name": "stdout",
     "output_type": "stream",
     "text": [
      "Hello, World\n"
     ]
    }
   ],
   "source": [
    "print(\"Hello, World\")"
   ]
  },
  {
   "cell_type": "markdown",
   "metadata": {},
   "source": [
    "Dont worry if you dont understand the code in full, or if it could not run. We will install all the necessary packages and then we will go over the code in detail. "
   ]
  },
  {
   "cell_type": "markdown",
   "metadata": {},
   "source": [
    "# ✍🏽 Exercise"
   ]
  },
  {
   "cell_type": "markdown",
   "metadata": {},
   "source": [
    "# 👉🏿 What's next\n",
    "\n",
    "Congratulations on accomplishing this lesson. I hope you learned\n",
    "\n",
    "1. s\n",
    "2. s\n",
    "\n",
    "Its now time to move to the next lesson, to learn about .....\n",
    "\n",
    "# [![Next Lesson](../Assets/NextLesson.png \"Next\")](./0.0_Intro.ipynb)\n"
   ]
  }
 ],
 "metadata": {
  "interpreter": {
   "hash": "7af0b1be9de2b80abba3e5650cc69d03f2efda3596aac82ee0cfa1be2c1a4d8a"
  },
  "kernelspec": {
   "display_name": "Python 3.9.1 64-bit",
   "language": "python",
   "name": "python3"
  },
  "language_info": {
   "codemirror_mode": {
    "name": "ipython",
    "version": 3
   },
   "file_extension": ".py",
   "mimetype": "text/x-python",
   "name": "python",
   "nbconvert_exporter": "python",
   "pygments_lexer": "ipython3",
   "version": "3.9.1"
  },
  "orig_nbformat": 4
 },
 "nbformat": 4,
 "nbformat_minor": 2
}
