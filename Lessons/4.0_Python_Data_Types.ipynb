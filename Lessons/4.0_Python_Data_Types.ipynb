{
 "cells": [
  {
   "cell_type": "markdown",
   "metadata": {},
   "source": [
    "# 💻 Topic: Python Data Types"
   ]
  },
  {
   "cell_type": "markdown",
   "metadata": {},
   "source": [
    "# 📝 Introduction\n",
    "Just like every other programming language, python has its own data types. The beauty of this is the fact that Python data types is simple and easy to understand. In this lesson we will delve into the various types that python has, and how to use them. \n",
    "\n",
    "The are some more complicated data types that will only be listed but the full explanation will come in subsequent lessons. "
   ]
  },
  {
   "cell_type": "markdown",
   "metadata": {},
   "source": [
    "# 🔄 What you should know by the end of the lesson\n",
    "\n",
    " 1. Various data types in Python\n",
    " 2. Define and learn how to use the basic one's. \n",
    " 3. Relationship betweeen Python data types and other programming language data types.\n",
    " 4. How to check for the type of python data type\n"
   ]
  },
  {
   "cell_type": "markdown",
   "metadata": {},
   "source": [
    "# 🗒️ Lesson content\n",
    "\n",
    "Python is not a statically typed programming language unlike what we have in some languages such as C, TypeScript etc. This simply means that you dont have to delcare the type of the variable you want to use before declaring it. All you need to do is just declare it and python determines its type. Beautiful right? While this is awesome it also comes with its won disadvantages. Let's not go into that now. \n",
    "\n",
    "To be able to understand Python data types, i will like to classify them acccording to the types. They are seven types with several data types that depends on the type of data we are dealing with. \n",
    "<pre>\n",
    "Text: \t\t`str` - Strings\n",
    "Numbers: \t`int` - Integers, `float` - Floating Numbers, `complex` - Complex Numbers\n",
    "Sequence: \t`list`, `tuple`, `range`\n",
    "Mapping:\t`dict` - dictionary\n",
    "set: \t\t`set`, `frozenset`\n",
    "Boolean: \t`bool` - Boolean\n",
    "</pre>\n",
    "\n",
    "Please note that not all data types are important at this level. Such one's that are not important at this level i would point out to you but i will also give you an example to see usage. \n",
    "\n",
    "## Text\n",
    "### `String`\n",
    "This is a sequence of unicode characters that can be represented with either single quote `'` or double quote `\"`. This simply means that any string that wrirtten in python is wrapped inside a quote. Python is not hard on the rule of using either single quote or double quote, so please feel free to use anyone you so wish. Examples of a string and how to initialize them. \n",
    "\n",
    "    name = 'Vincent'\n",
    "    programmingLanguage = 'Python'\n",
    "\n",
    "Sometimes you can see a number declared and initialized with quotes such as `age = 26` it simply means that the number wants to be seen as a string. More details about strings will come in the string section. \n",
    "\n",
    "##  Numbers\n",
    "### `int` - Integers \n",
    "Integer numbers can be positive, negative or zero numbers that has no decimal or fractional part. This is just like counting numbers but in this case you can count zero and negatives. examples include \n",
    "\n",
    "    age = 52\n",
    "    bodyWeigthKG = 80\n",
    "   More on this in the numbers lesson. \n",
    "\n",
    "### `float` - Floating Numbers\n",
    "float is simply used to represent decimal numbers. Sometimes you might need to represent a decimal number while writing a program. example\n",
    "\n",
    "    amount = 60,25\n",
    "    hight = 56,8\n",
    "\n",
    "### complex - Complex Numbers\n",
    "Complex numbers is an element of a number system that contains real number and imaginary number. A complex nmber can be represented in python. It is denoted with `complex([real, imag])`. Example\n",
    "\n",
    "`complex(5, 2)` will produce `5+2j`\n",
    "More on the complex number in later lessons. \n",
    "\n",
    "## Sequence \n",
    "### `list` \n",
    "\n",
    "Python lists are on of the most versatile and widely used python data types. It is almost the same as array used in various programming language. example: \n",
    "\n",
    "list = [ 'AdaObi', 67, 'Charles', 889.5]\n",
    "List was betrter explained in a full lesson. \n",
    "\n",
    "### `tuple`\n",
    "\n",
    "Feel free to call then sibblings of `list`.  The only difference is that while the content of a `list` can be changed, the content of a `tuple` cannot be changed. This means that they are **immutable**.  More on tuples in coming lessons. example \n",
    "\n",
    "    fruits = (\"apple\", \"watermelon\", \"orange\")\n",
    "\n",
    "### `range()`\n",
    "\n",
    "range() is more of a function than a datatype. It is used to return an immutable sequence of numbers between the given start and stop integers. Example run the cell bellow\n"
   ]
  },
  {
   "cell_type": "code",
   "execution_count": null,
   "metadata": {},
   "outputs": [],
   "source": [
    "print(list(range(9)))\n",
    "print(list(range(2, 6)))"
   ]
  },
  {
   "cell_type": "markdown",
   "metadata": {},
   "source": [
    "The difference between the two is that the first one did not indicate the start number instead the stop number, while the last one inidcated the start and stop number. \n",
    "\n",
    "Dont worry if you are still confused about it, we will explain more about that in a seperate lesson. \n",
    "\n",
    "## Mapping\n",
    "### `dict`\n",
    "Python dictionary is regarded as a dictionary it is. You know like in dictionary where every word has a meaning, thats the same way. It is an unordered collection of key-value pairs. \n",
    "\n",
    "It is mostly used where large amount of data are in play and it needs optimization. I will just give an example of declaring a dictionary because we dedicated a section to talking about it.\n",
    "\n",
    "    myDict = {\"name\" : \"Jude\", \"age\" : 22}\n",
    "\n",
    "\n",
    "## Set\n",
    "\n",
    "### `set`\n",
    "When you hear set, matematical set comes to your mind right? Dont worry it is the same set we are refreing to. Just that this time around it is written in python. Like the rest we will just be giving an example, then we would do a deep dive in the dedicated lessons. \n",
    "\n",
    "a = {34, 78, 32, 42, 11, 44, 35}\n",
    "\n",
    "### `frozenset()`\n",
    "These are just sets that are immutable. If you want to declare a frozen set, you will do it in this manner \n",
    "\n",
    "age = frozenset({2, 45, 54, 66})\n",
    "\n",
    "## Boolean\n",
    "\n",
    "### `bool`\n",
    "In python just like most programming language, there are times where all you need is to determine if something is either `True` or `False`. An item can be initialised to a partocular boolean value and used within a program, and a program can also return a bool. Example\n",
    "\n",
    "    isFruit = True \n",
    "\n",
    "## Type Checking\n",
    "Due to the fact that python is not statically typed, there might be times when you will need to confirm the type of a particular variable. This can come in handy when you want to perform an operation and want to know if there is need for type conversion. Lets see some quick example with the code below: \n",
    "\n",
    "Run the cell below\n"
   ]
  },
  {
   "cell_type": "code",
   "execution_count": null,
   "metadata": {},
   "outputs": [],
   "source": [
    "a = 55          #Integrer\n",
    "b = '55'        #String\n",
    "c = 'name'      #String\n",
    "d = True        #Bool\n",
    "\n",
    "print(type(a))\n",
    "print(type(b))\n",
    "print(type(c))\n",
    "print(type(d))\n"
   ]
  },
  {
   "cell_type": "markdown",
   "metadata": {},
   "source": [
    "Did you notice any differene between line 2 and 3? One is an integer while one is a string because it was wrapped in curry brackets. \n",
    "\n",
    "\n",
    "## Conclusion\n",
    "\n",
    "I know that this lesson became long, but i decided not to strecth it to another lesson, i decided to complete all the important things here, so from here on, you will know that you are moving deeper and understanding python better. "
   ]
  },
  {
   "cell_type": "markdown",
   "metadata": {},
   "source": [
    "# ✍🏽 Exercise\n",
    "\n",
    "Do the following: \n",
    "\n",
    "1. Declare all the variable types taught above\n",
    "2. print out the types of the variables declared. "
   ]
  },
  {
   "cell_type": "markdown",
   "metadata": {},
   "source": [
    "# 👉🏿 What's next\n",
    "\n",
    "Congratulations on accomplishing this lesson it was quite. I hope you learned\n",
    "\n",
    "1. about python data types\n",
    "2. Understand how it is been declared. \n",
    "3. Learn how to determine the data type.\n",
    "\n",
    "Its now time to move to the next lesson, to learn about Python Strings and how to work with them. \n",
    "\n",
    "![Let's Go](https://media.giphy.com/media/o75ajIFH0QnQC3nCeD/giphy.gif)\n",
    "\n",
    "# [![Next Lesson](../Assets/NextLesson.png \"Next\")](./5.0_Python_String.ipynb)\n"
   ]
  },
  {
   "cell_type": "markdown",
   "metadata": {},
   "source": [
    "# 📚 Reference \n",
    "\n",
    "In the course of Writing some of these materials were used in additions to the general one's used: \n",
    "\n",
    "1. https://www.mathopenref.com/number.html#:~:text=Integers,decimal%20places%20or%20fractional%20parts.\n",
    "2. https://en.wikipedia.org/wiki/Complex_number"
   ]
  }
 ],
 "metadata": {
  "interpreter": {
   "hash": "7af0b1be9de2b80abba3e5650cc69d03f2efda3596aac82ee0cfa1be2c1a4d8a"
  },
  "kernelspec": {
   "display_name": "Python 3.9.1 64-bit",
   "language": "python",
   "name": "python3"
  },
  "language_info": {
   "codemirror_mode": {
    "name": "ipython",
    "version": 3
   },
   "file_extension": ".py",
   "mimetype": "text/x-python",
   "name": "python",
   "nbconvert_exporter": "python",
   "pygments_lexer": "ipython3",
   "version": "3.9.1"
  },
  "orig_nbformat": 4
 },
 "nbformat": 4,
 "nbformat_minor": 2
}
