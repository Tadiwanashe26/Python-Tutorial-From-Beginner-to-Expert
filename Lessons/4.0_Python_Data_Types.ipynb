{
 "cells": [
  {
   "cell_type": "markdown",
   "metadata": {},
   "source": [
    "# 💻 Topic: Python Data Types"
   ]
  },
  {
   "cell_type": "markdown",
   "metadata": {},
   "source": [
    "# 📝 Introduction\n",
    "Just like every other programming language, python has its own data types. The beauty of this is the fact that Python data types is simple and easy to understand. In this lesson we will delve into the various types that python has, and how to use them. \n",
    "\n",
    "The are some more complicated data types that will only be listed but the full explanation will come in subsequent lessons. "
   ]
  },
  {
   "cell_type": "markdown",
   "metadata": {},
   "source": [
    "# 🔄 What you should know by the end of the lesson\n",
    "\n",
    " 1. Various data types in Python\n",
    " 2. Define and learn how to use the basic one's. \n",
    " 3. Relationship betweeen Python data types and other programming language data types.\n"
   ]
  },
  {
   "cell_type": "markdown",
   "metadata": {},
   "source": [
    "# 🗒️ Lesson content\n",
    "\n",
    "Python is not a statically typed programming language unlike what we have in some languages such as C, TypeScript etc. This simply means that you dont have to delcare the type of the variable you want to use before declaring it. All you need to do is just declare it and python determines its type. Beautiful right? While this is awesome it also comes with its won disadvantages. Let's not go into that now. \n",
    "\n",
    "To be able to understand Python data types, i will like to classify them acccording to the types. They are seven types with several data types that depends on the type of data we are dealing with. \n",
    "<pre>\n",
    "Text: \t\t`str` - Strings\n",
    "Numbers: \t`int` - Integers, `float` - Floating Numbers, `complex` - Complex Numbers\n",
    "Sequence: \t`list`, `tuple`, `range`\n",
    "Mapping:\t`dict` - dictionary\n",
    "set: \t\t`set`, `frozenset`\n",
    "Boolean: \t`bool` - Boolean\n",
    "</pre>\n",
    "\n",
    "Please note that not all data types are important at this level. Such one's that are not important at this level i would point out to you but i will also give you an example to see usage. \n",
    "\n",
    "## Text\n",
    "### `String`\n",
    "This is a sequence of unicode characters that can be represented with either single quote `'` or double quote `\"`. This simply means that any string that wrirtten in python is wrapped inside a quote. Python is not hard on the rule of using either single quote or double quote, so please feel free to use anyone you so wish. Examples of a string and how to initialize them. \n",
    "\n",
    "    name = 'Vincent'\n",
    "    programmingLanguage = 'Python'\n",
    "\n",
    "Sometimes you can see a number declared and initialized with quotes such as `age = 26` it simply means that the number wants to be seen as a string. More details about strings will come in the string section. \n",
    "\n",
    "##  Numbers\n",
    "### `int` - Integers \n",
    "Integer numbers can be positive, negative or zero numbers that has no decimal or fractional part. This is just like counting numbers but in this case you can count zero and negatives. examples include \n",
    "\n",
    "    age = 52\n",
    "    bodyWeigthKG = 80\n",
    "   More on this in the numbers lesson. \n",
    "\n",
    "### `float` - Floating Numbers\n",
    "float is simply used to represent decimal numbers. Sometimes you might need to represent a decimal number while writing a program. example\n",
    "\n",
    "    amount = 60,25\n",
    "    hight = 56,8\n",
    "\n",
    "### complex - Complex Numbers\n",
    "Complex numbers is an element of a number system that contains real number and imaginary number. A complex nmber can be represented in python. It is denoted with `complex([real, imag])`. Example\n",
    "\n",
    "`complex(5, 2)` will produce `5+2j`\n",
    "More on the complex number in later lessons. \n",
    "\n",
    "## Sequence \n",
    "### `list` \n",
    "\n",
    "Python lists are on of the most versatile and widely used python data types. It is almost the same as array used in various programming language. example: \n",
    "\n",
    "list = [ 'AdaObi', 67, 'Charles', 889.5]\n",
    "List was betrter explained in a full lesson. \n",
    "\n",
    "### `tuple`"
   ]
  },
  {
   "cell_type": "code",
   "execution_count": 1,
   "metadata": {},
   "outputs": [
    {
     "name": "stdout",
     "output_type": "stream",
     "text": [
      "(5+2j)\n"
     ]
    }
   ],
   "source": [
    "a = complex(5,2)\n",
    "print(a)"
   ]
  },
  {
   "cell_type": "markdown",
   "metadata": {},
   "source": [
    "# ✍🏽 Exercise"
   ]
  },
  {
   "cell_type": "markdown",
   "metadata": {},
   "source": [
    "# 👉🏿 What's next\n",
    "\n",
    "Congratulations on accomplishing this lesson. I hope you learned\n",
    "\n",
    "1. s\n",
    "2. s\n",
    "\n",
    "Its now time to move to the next lesson, to learn about .....\n",
    "\n",
    "# [![Next Lesson](../Assets/NextLesson.png \"Next\")](./0.0_Intro.ipynb)\n"
   ]
  },
  {
   "cell_type": "markdown",
   "metadata": {},
   "source": [
    "# 📚 Reference \n",
    "\n",
    "In the course of Writing some of these materials were used in additions to the general one's used: \n",
    "\n",
    "1. https://www.mathopenref.com/number.html#:~:text=Integers,decimal%20places%20or%20fractional%20parts.\n",
    "2. https://en.wikipedia.org/wiki/Complex_number"
   ]
  }
 ],
 "metadata": {
  "interpreter": {
   "hash": "7af0b1be9de2b80abba3e5650cc69d03f2efda3596aac82ee0cfa1be2c1a4d8a"
  },
  "kernelspec": {
   "display_name": "Python 3.9.1 64-bit",
   "language": "python",
   "name": "python3"
  },
  "language_info": {
   "codemirror_mode": {
    "name": "ipython",
    "version": 3
   },
   "file_extension": ".py",
   "mimetype": "text/x-python",
   "name": "python",
   "nbconvert_exporter": "python",
   "pygments_lexer": "ipython3",
   "version": "3.9.1"
  },
  "orig_nbformat": 4
 },
 "nbformat": 4,
 "nbformat_minor": 2
}
