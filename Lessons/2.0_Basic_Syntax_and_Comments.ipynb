{
 "cells": [
  {
   "cell_type": "markdown",
   "metadata": {},
   "source": [
    "# 💻 Topic: Basic Syntax and Comments"
   ]
  },
  {
   "cell_type": "markdown",
   "metadata": {},
   "source": [
    "# 📝 Introduction\n",
    "Syntax in programming is the process of writing a program to accomplish a specific task. It is the set of rules that define the structure of a program. The rules are written in a language called a programming language. The language is the programming language that the program is written in.  The programming language is the set of rules that define the structure of a program. \n",
    "\n",
    "This implies that every programming language has its own set of syntax. Python is therefore no exception to that. Syntax defines the way we give space, the way we comment, the way we put comma etc. This can be both grammatical and structural syntax. "
   ]
  },
  {
   "cell_type": "markdown",
   "metadata": {},
   "source": [
    "# 🔄 What you should know by the end of the lesson\n",
    "\n",
    " 1. Understand the meaning of syntax in computer programming. \n",
    " 2. Learn various syntax and rules with regards to python\n",
    " 3. Understand what comment is in the context of programming and reason why it is been used. \n",
    " 4. Learn how to add both single and multiple line comment. \n",
    "\n"
   ]
  },
  {
   "cell_type": "markdown",
   "metadata": {},
   "source": [
    "# 🗒️ Lesson content\n",
    "\n"
   ]
  },
  {
   "cell_type": "markdown",
   "metadata": {},
   "source": [
    "Python syntax are simple yet complex if care is not taken. We will be taking a look at some of the key syntaxs and how to avoid making unnecessary errors.\n",
    "\n",
    "## Python KeyWords/ Identifiers\n",
    "\n",
    "### Python KeyWords\n",
    "\n",
    "Python keywords are those words that are reserved only for python. Those words cannot be used as either part of a function or a variable. Just like in a household, two people cannot bear the same first name, this is because it will lead to confusion. \n",
    "\n",
    "It is important to note that all python keywords are case sensitive (all of them are small letters except `True`, `False`, and `None`). \n",
    "\n",
    "Python has more than 30 keywords and most of them are listed below: \n",
    "\n",
    "    ['False', 'None', 'True', '__peg_parser__', 'and', 'as', 'assert', 'async', 'await', 'break', 'class', 'continue', 'def', 'del', 'elif', 'else', 'except', 'finally', 'for', 'from', 'global', 'if', 'import', 'in', 'is', 'lambda', 'nonlocal', 'not', 'or', 'pass', 'raise', 'return', 'try', 'while', 'with', 'yield']\n",
    "\n",
    "To discover the current lists of keywords just run the code below: "
   ]
  },
  {
   "cell_type": "code",
   "execution_count": null,
   "metadata": {},
   "outputs": [],
   "source": [
    "import keyword\n",
    "print(keyword.kwlist)"
   ]
  },
  {
   "cell_type": "markdown",
   "metadata": {},
   "source": [
    "### Python Identifiers\n",
    "Python identifiers are those names that you give to a functions, variables, classes etc. Identifiers are important because their is a need to identify one object from another. \n",
    "\n",
    "It is important to add that identifiers are quite different from keywords. While one can be used by python users, the other is completely reserved for only python. \n",
    "\n",
    "When we said that identifiers are names that can be given to any entity such as variable, we dont mean you can go crazy with names 😂. There are rules to that too. The rules are as follow: \n",
    "\n",
    "1. Identifiers can contain the 26 alphabet from a -z either lowercase or upper case. It can contain numbers from 0-9 and it can contain underscore (`_`). These things can be written in any mixture for example includes: "
   ]
  },
  {
   "cell_type": "markdown",
   "metadata": {},
   "source": []
  },
  {
   "cell_type": "markdown",
   "metadata": {},
   "source": [
    "# ✍🏽 Exercise"
   ]
  },
  {
   "cell_type": "markdown",
   "metadata": {},
   "source": [
    "# 👉🏿 What's next\n",
    "\n",
    "Congratulations on accomplishing this lesson. I hope you learned\n",
    "\n",
    "1. s\n",
    "2. s\n",
    "\n",
    "Its now time to move to the next lesson, to learn about .....\n",
    "\n",
    "# [![Next Lesson](../Assets/NextLesson.png \"Next\")](./0.0_Intro.ipynb)\n"
   ]
  }
 ],
 "metadata": {
  "interpreter": {
   "hash": "7af0b1be9de2b80abba3e5650cc69d03f2efda3596aac82ee0cfa1be2c1a4d8a"
  },
  "kernelspec": {
   "display_name": "Python 3.9.1 64-bit",
   "language": "python",
   "name": "python3"
  },
  "language_info": {
   "codemirror_mode": {
    "name": "ipython",
    "version": 3
   },
   "file_extension": ".py",
   "mimetype": "text/x-python",
   "name": "python",
   "nbconvert_exporter": "python",
   "pygments_lexer": "ipython3",
   "version": "3.9.1"
  },
  "orig_nbformat": 4
 },
 "nbformat": 4,
 "nbformat_minor": 2
}
