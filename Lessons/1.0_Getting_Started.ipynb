{
 "cells": [
  {
   "cell_type": "markdown",
   "metadata": {},
   "source": [
    "# 📝 Introduction\n",
    "Python is an interpreted language, meaning that it is not compiled to machine code. This means that you can run Python code on your computer. In this lesson we will install Python and get started with it."
   ]
  },
  {
   "cell_type": "markdown",
   "metadata": {},
   "source": [
    "# 🔄 What you should know by the end of the lesson\n",
    "\n",
    " 1. Installed python successfully   \n",
    " 2. Learnt the various methods that python can be installed. \n",
    " 3. Run a python command to ensure it is successfully installed.\n",
    " 4. Understand how to run the codes in this course.\n"
   ]
  },
  {
   "cell_type": "markdown",
   "metadata": {},
   "source": [
    "# 🗒️ Lesson content\n",
    "\n",
    "Python is available for multiple systems and platforms. Infact, python comes by default these days in computer. This is because of how important python is. Let's first confirm if python is installed in your system. \n",
    "\n",
    "## Initial Step\n",
    "### For windows: \n",
    "<!-- ToDo Make video on this -->\n",
    "Step 1: Hit the windows search button and type `cmd`. This will open up the command prompt. \n",
    "Step 2: type `python` and hit enter. \n",
    "If your response looks that the picture below, that means that python is already installed in your system, else go to https://www.python.org/ to download and install python for free. \n",
    "\n",
    "### For Mac\n",
    "Step 1: Open the Mac terminal\n",
    "Step 2: type `python` and hit enter. \n",
    "If your response looks that the picture below, that means that python is already installed in your system, else go to https://www.python.org/ to download and install python for free. \n",
    "\n",
    "This is just the first step towards writing our python code. Although you can write python using your command line, but that will be the most boroing thing you will ever do. In the next step \n",
    "\n",
    "## Option 1 (Visual Studio Code)\n",
    "<!-- ToDo Make video on this -->\n",
    "Step 1: Download and install  Visual Studio Code @ https://code.visualstudio.com/\n",
    "Step 2: Install the following extensions: \n",
    "\ta. Python extension by Microsoft it offers (IntelliSense (Pylance), Linting, Debugging (multi-threaded, remote), Jupyter Notebooks, code formatting, refactoring, unit tests, and more)\n",
    "\tb. Jupyter notebook by Microsoft for (support, interactive programming and computing that supports Intellisense, debugging and more.)\n",
    "These are the most important once, but feel free to explore and add more. \n",
    "\n",
    "## Option 2 (Online IDE)\n",
    "There is a possibility that your system might be misbehaving and delaying you from learning python. Dont worry, they are tons of online IDE available for you to use. some of them includes: \n",
    "\n",
    " - https://www.programiz.com/python-programming/online-compiler/\n",
    " - https://www.online-python.com/\n",
    " - https://www.onlinegdb.com/online_python_compiler\n",
    " - https://replit.com/languages/python3\n",
    "And several other online IDE. You should be careful of some online IDE, they might throw up error in a perfectly working environment. \n",
    "\n",
    "## Option 3 (Online Code Editor + IDE) \n",
    "<!-- ToDo Make video on this -->\n",
    "This is just like having your visual studio code in the browser. Some of these tools are so powerful and easy to use. You can also get alot of compute time free of charge. \n",
    "\n",
    "The one i have used is https://www.gitpod.io/. They are others, but this is the one i feel more comfortable using. Feel freee to explore. \n",
    "\n",
    "\n",
    "These are various way that you can run a python code. I might be missing some, please forgive me. \n",
    "\n",
    "# How to use this course material\n",
    "\n",
    "This course material have been prerpared in such a way that it is easy for you to make use of and implement. The following ways are how you can make use of the course material. \n",
    "\n",
    "## Through GitPod (Online Code Editor + IDE)\n",
    "//ToDo add GitPod link here \n",
    "//ToDo make a video of this\n",
    "\n",
    "When you click on the GitPod link, this project will be cloned to your GitPod account´from there you can have a full access to the course material and code. \n",
    "Install all the necessary extensions needed and you are on the right track. \n",
    "\n",
    "##  Clone the Repository\n",
    "//ToDo Make a Video\n",
    "\n",
    "Run the following command in your git or bash\n",
    "\n",
    "    git clone https://github.com/vickjoeobi/Python-Tutorial-From-Beginer-to-Expert.git\n",
    "\n",
    "This will cone the repository to your current directory. After cloning, locate the directory, open it with your favourite code editor or visual studio code (recommended) and start working on it. \n",
    "\n",
    "## Online Python IDE\n",
    "\n",
    "You also have the posibilities of using some of the online IDE's mentioned above to run the course. \n",
    "\n",
    "All you need to do is to copy and past the v arious commands, or to run and execute your exercises there. \n",
    "\n",
    "There could be other options not mentioned here, but i trust you to figure it out. "
   ]
  },
  {
   "cell_type": "markdown",
   "metadata": {},
   "source": [
    "# ✍🏽 Exercise\n",
    "\n",
    "1. Install Python on your system.\n",
    "2. Clone the course lesson repository.\n",
    "3. Execute a simple python program.\n",
    "\n",
    "Did it run? If not, try to run it or make use of online IDE. \n",
    "\n",
    "Feel free to raise an issue or start a discussion in GitHUb incase you have a question or suggestion. "
   ]
  },
  {
   "cell_type": "markdown",
   "metadata": {},
   "source": [
    "# 👉🏿 What's next\n",
    "\n",
    "Congratulations I you are now ready to start learning python. I hope you were able to: \n",
    "\n",
    "1. Install python successfully\n",
    "2. Run your first pythlon command successfully\n",
    "3. Clone the course lesson repository successfully\n",
    "\n",
    "Its now time to move to the next lesson, to learn about .....\n",
    "\n",
    "# [![Next Lesson](../Assets/NextLesson.png \"Next\")](./2.0_Basic_Syntax_and_Comments.ipynb)\n"
   ]
  }
 ],
 "metadata": {
  "interpreter": {
   "hash": "7af0b1be9de2b80abba3e5650cc69d03f2efda3596aac82ee0cfa1be2c1a4d8a"
  },
  "kernelspec": {
   "display_name": "Python 3.9.1 64-bit",
   "language": "python",
   "name": "python3"
  },
  "language_info": {
   "codemirror_mode": {
    "name": "ipython",
    "version": 3
   },
   "file_extension": ".py",
   "mimetype": "text/x-python",
   "name": "python",
   "nbconvert_exporter": "python",
   "pygments_lexer": "ipython3",
   "version": "3.9.1"
  },
  "orig_nbformat": 4
 },
 "nbformat": 4,
 "nbformat_minor": 2
}
