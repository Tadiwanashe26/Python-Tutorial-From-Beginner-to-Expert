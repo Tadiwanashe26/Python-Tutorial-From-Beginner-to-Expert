{
 "cells": [
  {
   "cell_type": "markdown",
   "metadata": {},
   "source": [
    "# 📝 Introduction"
   ]
  },
  {
   "cell_type": "markdown",
   "metadata": {},
   "source": [
    "# 🔄 What you should know by the end of the lesson"
   ]
  },
  {
   "cell_type": "markdown",
   "metadata": {},
   "source": [
    "# 🗒️ Lesson content"
   ]
  },
  {
   "cell_type": "markdown",
   "metadata": {},
   "source": [
    "# ✍🏽 Exercise"
   ]
  },
  {
   "cell_type": "markdown",
   "metadata": {},
   "source": [
    "# 👉🏿 What's next\n",
    "\n",
    "Congratulations on accomplishing this lesson. I hope you learned\n",
    "\n",
    "1. s\n",
    "2. s\n",
    "\n",
    "Its now time to move to the next lesson, to learn about .....\n",
    "\n",
    "# [![Next Lesson](./Assets/NextLesson.png \"Next\")](./Lessons/0.0_Intro.ipynb)\n"
   ]
  },
  {
   "cell_type": "markdown",
   "metadata": {},
   "source": [
    "# 📝 Introduction\n",
    "\n",
    "# 🔄 What you should know by the end of the lesson\n",
    "\n",
    "# 🗒️ Lesson content\n",
    "\n",
    "# ✍🏽 Exercise"
   ]
  }
 ],
 "metadata": {
  "interpreter": {
   "hash": "7af0b1be9de2b80abba3e5650cc69d03f2efda3596aac82ee0cfa1be2c1a4d8a"
  },
  "kernelspec": {
   "display_name": "Python 3.9.1 64-bit",
   "language": "python",
   "name": "python3"
  },
  "language_info": {
   "codemirror_mode": {
    "name": "ipython",
    "version": 3
   },
   "file_extension": ".py",
   "mimetype": "text/x-python",
   "name": "python",
   "nbconvert_exporter": "python",
   "pygments_lexer": "ipython3",
   "version": "3.9.1"
  },
  "orig_nbformat": 4
 },
 "nbformat": 4,
 "nbformat_minor": 2
}
