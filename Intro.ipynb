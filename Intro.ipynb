{
 "cells": [
  {
   "cell_type": "markdown",
   "metadata": {},
   "source": [
    "# Introduction\n",
    "\n",
    "![Learn Python from Beginner level to expert](Images/IntroPic.png \"Let's Learn Python\")\n",
    "\n",
    "Hello World, \n",
    "\n",
    "## Reasons why you should be here! \n",
    "1. You ae an absolute beginner in python\n",
    "2. You are new to programming and wants to make python your pathway. \n",
    "3. You need a refresher course in python\n",
    "4. Fix any other reason yo wish. \n",
    "\n",
    "## Why you should learn python\n",
    "Here i wanted to start giving you motivation on why you should learn python 🙂. However, i decided against it, because for you to be here you are already aware of the **Power of Python** so i dont need to talk and demostrate much. For the sake of completeness, i will leave you with some few thoughs and encouragement. \n",
    "\n",
    "According to Statista.com python ranks 3rd most used prigramming language nehind javascript and HTML, and ahead of Java. This proves that the lnaguage has gotten even more popular. \n",
    "\n",
    "![Python Statistics](Images/PythonStat.JPG \"Most used Programming Languages\")\n",
    "\n",
    "The popularity also comes in its usage. Python can be used in a wide range of things which includes: \n",
    "\n",
    " - AI & Machine Learning\n",
    " - Data Analysis\n",
    " - Data Visualisation\n",
    " - Programming Applications \n",
    " - Web development etc. \n",
    "It has wide range of applications. This is made possible by the various modules and packages (I will explain modules and packages below) available in python. \n",
    "\n",
    "## How to use this course\n",
    "\n",
    "Irrespective of development platform you are working with, I have outlined easy ways for you to be able to make use of this course. \n",
    "\n",
    "### Method 1 (Easy): GitPod [![gitpod](Images/gitpod2.svg \"gitPod\")](https://vickjoeobi-pythontutoria-d9gnp39ccu1.ws-eu30.gitpod.io/)\n",
    "\n",
    "GitPod is an opensource Kubernetes application for ready to code developers environment. This simply means that GitPod makes it look like you are working in your local environment whereas it is browser based. This works irrepective of your operating system. \n",
    "Step1: Open in GitPod, create an account or sign in. \n",
    "Step 2: Install Python Extention"
   ]
  },
  {
   "cell_type": "markdown",
   "metadata": {},
   "source": []
  }
 ],
 "metadata": {
  "language_info": {
   "name": "python"
  },
  "orig_nbformat": 4
 },
 "nbformat": 4,
 "nbformat_minor": 2
}
